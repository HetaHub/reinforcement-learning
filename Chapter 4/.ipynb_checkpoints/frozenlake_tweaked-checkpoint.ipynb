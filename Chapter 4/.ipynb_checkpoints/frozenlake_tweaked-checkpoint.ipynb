{
 "cells": [
  {
   "cell_type": "markdown",
   "id": "971c2c23",
   "metadata": {},
   "source": [
    "1. Batch must be large enough(In CartPole, we just need 16 episodes is enough, but in FrozenLake, we need at least 100 episode to get some success cases.)\n",
    "2. Use discount factor on reward, we use 0.9 or 0.95, therefore a longer episode will have a smaller reward than a shorter episode.\n",
    "3. Extend the time of keeping elite episode: In CartPole, we sample from episodes and get the elite episode, using those for training and drop them. But in FrozenLake, it is difficult to see a success episode, therefore we must keep them longer for training.\n",
    "4. Decrease learning rate to get more samples\n",
    "5. Longer training time, we need at least 5000 times training for 50% success rate."
   ]
  },
  {
   "cell_type": "code",
   "execution_count": 1,
   "id": "153879a5",
   "metadata": {},
   "outputs": [],
   "source": [
    "import gym, gym.spaces\n",
    "from collections import namedtuple\n",
    "import numpy as np\n",
    "from tensorboardX import SummaryWriter\n",
    "\n",
    "import torch\n",
    "import torch.nn as nn\n",
    "import torch.optim as optim"
   ]
  },
  {
   "cell_type": "code",
   "execution_count": 2,
   "id": "b54234f4",
   "metadata": {
    "scrolled": true
   },
   "outputs": [],
   "source": [
    "#other parameters are randomize and won't do customization\n",
    "#hidden layers neurons number, number of episodes for every loop\n",
    "#filter percentage for the best episodes(we will take the best 30%)\n",
    "HIDDEN_SIZE = 128\n",
    "#batch size set to 100 instead of 16\n",
    "BATCH_SIZE = 100\n",
    "PERCENTILE = 70\n",
    "#Use for calculate discounted reward\n",
    "GAMMA = 0.9"
   ]
  },
  {
   "cell_type": "code",
   "execution_count": 3,
   "id": "299ec49a",
   "metadata": {},
   "outputs": [],
   "source": [
    "class Net(nn.Module):\n",
    "    def __init__(self, obs_size, hidden_size, n_actions):\n",
    "        super(Net, self).__init__()\n",
    "        self.net = nn.Sequential(\n",
    "            nn.Linear(obs_size, hidden_size),\n",
    "            nn.ReLU(),\n",
    "            nn.Linear(hidden_size, n_actions)\n",
    "        )\n",
    "        \n",
    "    def forward(self, x):\n",
    "        return self.net(x)"
   ]
  },
  {
   "cell_type": "code",
   "execution_count": 4,
   "id": "b8431d85",
   "metadata": {},
   "outputs": [],
   "source": [
    "#We define 2 helper class to create 2 namedtuple.\n",
    "#EpisodeStep store 1 step in a episode, it also stored observation from environment and the action performed\n",
    "#Episode is the set of EpisodeStep, it store the non-discounted reward in one whole episode\n",
    "Episode = namedtuple('Episode', field_names=['reward', 'steps'])\n",
    "EpisodeStep = namedtuple('EpisodeStep', field_names=['observation', 'action'])"
   ]
  },
  {
   "cell_type": "code",
   "execution_count": 5,
   "id": "9c254f90",
   "metadata": {},
   "outputs": [],
   "source": [
    "def iterate_batches(env, net, batch_size):\n",
    "    #batch to save result of process, set a reward counter for the current episode\n",
    "    #reset environment and construct softmax layer, it transfer the output to action probabilites\n",
    "    batch = []\n",
    "    episode_reward = 0.0\n",
    "    episode_steps = []\n",
    "    obs = env.reset()\n",
    "    sm = nn.Softmax(dim=1)\n",
    "    \n",
    "    #every loop will convert observation to pytorch tensor and send to network to get the action probability\n",
    "    #nn.Module will get observation value from the CartPole 1 * 4 Tensor\n",
    "    #Because we didn't use softmax function at final layer, it will output original value\n",
    "    while True:\n",
    "        obs_v = torch.FloatTensor([obs])\n",
    "        act_probs_v = sm(net(obs_v))\n",
    "        #we use tensor.data to uncompress tensor and convert to Numpy array, this has same 2 dimension as input data\n",
    "        #we want to get the first batch from the batch array, therefore we use [0], which is action probabilities\n",
    "        act_probs = act_probs_v.data.numpy()[0]\n",
    "        \n",
    "        #we use random.choice() to sample from action probabilities, and put the action to environment to get next \n",
    "        #observation, reward and episode is done or not\n",
    "        action = np.random.choice(len(act_probs), p=act_probs)\n",
    "        next_obs, reward, is_done, _ = env.step(action)\n",
    "        \n",
    "        #we add the reward to total reward, we store the observation and action pair into the episode_steps, the \n",
    "        #observation is before action, not after\n",
    "        episode_reward += reward\n",
    "        episode_steps.append(EpisodeStep(observation=obs, action=action))\n",
    "        \n",
    "        #when gameover, episode is done, we will append the reward to total reward and reset environment and episode rewards\n",
    "        #if batch accumulates enough episodes,we yield the result to caller for further process\n",
    "        if is_done:\n",
    "            batch.append(Episode(reward=episode_reward, steps=episode_steps))\n",
    "            episode_reward = 0.0\n",
    "            episode_steps = []\n",
    "            next_obs = env.reset()\n",
    "            if len(batch) == batch_size:\n",
    "                yield batch\n",
    "                batch = []\n",
    "        \n",
    "        #get observation value from environment to current observation variable\n",
    "        #repeat everything after: pass observation result to network, sample action and take action, let environment\n",
    "        #handle action, save result\n",
    "        obs = next_obs"
   ]
  },
  {
   "cell_type": "code",
   "execution_count": 6,
   "id": "a7fbec71",
   "metadata": {},
   "outputs": [],
   "source": [
    "#training loop\n",
    "#we return elite batch here\n",
    "def filter_batch(batch, percentile):\n",
    "    #we use numpy percentile to caluclate the reward_bound with the batch reward we got\n",
    "    disc_rewards = list(map(lambda s: s.reward * (GAMMA ** len(s.steps)), batch))\n",
    "    reward_bound = np.percentile(disc_rewards, percentile)\n",
    "    \n",
    "    #if reward is larger than reward boundary, we keep it and store the observation and action\n",
    "    train_obs = []\n",
    "    train_act = []\n",
    "    elite_batch = []\n",
    "    for example, discounted_reward in zip(batch, disc_rewards):\n",
    "        if discounted_reward > reward_bound:\n",
    "            train_obs.extend(map(lambda step: step.observation, example.steps))\n",
    "            train_act.extend(map(lambda step: step.action, example.steps))\n",
    "            elite_batch.append(example)\n",
    "            \n",
    "    return elite_batch, train_obs, train_act, reward_bound"
   ]
  },
  {
   "cell_type": "code",
   "execution_count": 7,
   "id": "f2993dd4",
   "metadata": {},
   "outputs": [],
   "source": [
    "class DiscreteOneHotWrapper(gym.ObservationWrapper):\n",
    "    def __init__(self, env):\n",
    "        super(DiscreteOneHotWrapper, self).__init__(env)\n",
    "        assert isinstance(env.observation_space, gym.spaces.Discrete)\n",
    "        self.observation_space = gym.spaces.Box(0.0, 1.0, (env.observation_space.n, ), dtype=np.float32)\n",
    "        \n",
    "    def observation(self, observation):\n",
    "        res = np.copy(self.observation_space.low)\n",
    "        res[observation] = 1.0\n",
    "        return res"
   ]
  },
  {
   "cell_type": "markdown",
   "id": "0885ba79",
   "metadata": {},
   "source": [
    "# The reward cannot converge because the environment and reward mechanism is very different, the reward will mark as success(1) or fail(0), and we only have very little chance by random walking will go to the goal. So if we use >50-70% as elite episode for training, probably there are many failed episodes\n"
   ]
  },
  {
   "cell_type": "markdown",
   "id": "6dff53bd",
   "metadata": {},
   "source": [
    "# To conclude, if using cross entropy, the episode is shorter, the result is better. The total reward should be able to divide the good and bad episode. Also before success, there won't be any indication of whether the target is going to achieve as good episode or bad episode."
   ]
  },
  {
   "cell_type": "code",
   "execution_count": 8,
   "id": "46c19fd8",
   "metadata": {},
   "outputs": [
    {
     "ename": "NameError",
     "evalue": "name 'reward_b' is not defined",
     "output_type": "error",
     "traceback": [
      "\u001b[1;31m---------------------------------------------------------------------------\u001b[0m",
      "\u001b[1;31mNameError\u001b[0m                                 Traceback (most recent call last)",
      "\u001b[1;32m<ipython-input-8-39e3eb91c91c>\u001b[0m in \u001b[0;36m<module>\u001b[1;34m\u001b[0m\n\u001b[0;32m     31\u001b[0m         \u001b[1;31m#For monitoring, show iterate number, loss, batch reward mean, reward boundary, all these values will be\u001b[0m\u001b[1;33m\u001b[0m\u001b[1;33m\u001b[0m\u001b[1;33m\u001b[0m\u001b[0m\n\u001b[0;32m     32\u001b[0m         \u001b[1;31m#written in TensorBoard\u001b[0m\u001b[1;33m\u001b[0m\u001b[1;33m\u001b[0m\u001b[1;33m\u001b[0m\u001b[0m\n\u001b[1;32m---> 33\u001b[1;33m         \u001b[0mprint\u001b[0m\u001b[1;33m(\u001b[0m\u001b[1;34m\"%d: loss=%.3f, reward_mean=%.1f, reward_bound=%.1f\"\u001b[0m \u001b[1;33m%\u001b[0m\u001b[1;33m(\u001b[0m\u001b[0miter_no\u001b[0m\u001b[1;33m,\u001b[0m \u001b[0mloss_v\u001b[0m\u001b[1;33m.\u001b[0m\u001b[0mitem\u001b[0m\u001b[1;33m(\u001b[0m\u001b[1;33m)\u001b[0m\u001b[1;33m,\u001b[0m \u001b[0mreward_m\u001b[0m\u001b[1;33m,\u001b[0m \u001b[0mreward_b\u001b[0m\u001b[1;33m)\u001b[0m\u001b[1;33m)\u001b[0m\u001b[1;33m\u001b[0m\u001b[1;33m\u001b[0m\u001b[0m\n\u001b[0m\u001b[0;32m     34\u001b[0m         \u001b[0mwriter\u001b[0m\u001b[1;33m.\u001b[0m\u001b[0madd_scalar\u001b[0m\u001b[1;33m(\u001b[0m\u001b[1;34m\"loss\"\u001b[0m\u001b[1;33m,\u001b[0m \u001b[0mloss_v\u001b[0m\u001b[1;33m.\u001b[0m\u001b[0mitem\u001b[0m\u001b[1;33m(\u001b[0m\u001b[1;33m)\u001b[0m\u001b[1;33m,\u001b[0m \u001b[0miter_no\u001b[0m\u001b[1;33m)\u001b[0m\u001b[1;33m\u001b[0m\u001b[1;33m\u001b[0m\u001b[0m\n\u001b[0;32m     35\u001b[0m         \u001b[0mwriter\u001b[0m\u001b[1;33m.\u001b[0m\u001b[0madd_scalar\u001b[0m\u001b[1;33m(\u001b[0m\u001b[1;34m\"reward_bound\"\u001b[0m\u001b[1;33m,\u001b[0m \u001b[0mreward_b\u001b[0m\u001b[1;33m,\u001b[0m \u001b[0miter_no\u001b[0m\u001b[1;33m)\u001b[0m\u001b[1;33m\u001b[0m\u001b[1;33m\u001b[0m\u001b[0m\n",
      "\u001b[1;31mNameError\u001b[0m: name 'reward_b' is not defined"
     ]
    }
   ],
   "source": [
    "if __name__ == \"__main__\":\n",
    "    #we create all necessary objects: environment, network, target function, optimizer and TensorBoard writer\n",
    "    env = DiscreteOneHotWrapper(gym.make(\"FrozenLake-v1\"))\n",
    "    #The line below will create a monitor to save the agent action as video\n",
    "    env = gym.wrappers.Monitor(env, directory=\"mon3\", force=True)\n",
    "    obs_size = env.observation_space.shape[0]\n",
    "    n_actions = env.action_space.n\n",
    "    \n",
    "    net = Net(obs_size, HIDDEN_SIZE, n_actions)\n",
    "    objective = nn.CrossEntropyLoss()\n",
    "    #learning set to 0.001 instead of 0.01, 1/10 of original\n",
    "    optimizer = optim.Adam(params=net.parameters(), lr=0.001)\n",
    "    writer = SummaryWriter(comment=\"-frozenlake-tweaked\")\n",
    "    \n",
    "    full_batch = []\n",
    "    for iter_no, batch in enumerate(iterate_batches(env, net, BATCH_SIZE)):\n",
    "        reward_m = float(np.mean(list(map(lambda s: s.reward, batch))))\n",
    "        full_batch, obs, acts, reward_b = filter_batch(full_batch + batch, PERCENTILE)\n",
    "        if not full_batch:\n",
    "            continue\n",
    "        obs_v = torch.FloatTensor(obs)\n",
    "        acts_v = torch.LongTensor(acts)\n",
    "        full_batch = full_batch[-500:]\n",
    "                \n",
    "        optimizer.zero_grad()\n",
    "        action_scores_v = net(obs_v)\n",
    "        loss_v = objective(action_scores_v, acts_v)\n",
    "        loss_v.backward()\n",
    "        optimizer.step()\n",
    "        \n",
    "        #For monitoring, show iterate number, loss, batch reward mean, reward boundary, all these values will be \n",
    "        #written in TensorBoard\n",
    "        print(\"%d: loss=%.3f, reward_mean=%.1f, reward_bound=%.1f\" %(iter_no, loss_v.item(), reward_m, reward_b))\n",
    "        writer.add_scalar(\"loss\", loss_v.item(), iter_no)\n",
    "        writer.add_scalar(\"reward_bound\", reward_b, iter_no)\n",
    "        writer.add_scalar(\"reward_mean\", reward_m, iter_no)\n",
    "        \n",
    "        #if mean reward > 199, we stop training, it is because in Gym, when 100 episodes > 195,\n",
    "        #the cartpole problem is said to be successfully solved, it can balance infinitely long,\n",
    "        #but in CartPole environment, it used TimeLimit to limit the episodes within 200, so it is forced to stop after\n",
    "        #200 steps. Therefore we use > 199 steps as to indicate the problem solved\n",
    "        if reward_m > 199:\n",
    "            print(\"Solved!\")\n",
    "            break\n",
    "    writer.close()"
   ]
  }
 ],
 "metadata": {
  "kernelspec": {
   "display_name": "reinforcement",
   "language": "python",
   "name": "reinforcement"
  },
  "language_info": {
   "codemirror_mode": {
    "name": "ipython",
    "version": 3
   },
   "file_extension": ".py",
   "mimetype": "text/x-python",
   "name": "python",
   "nbconvert_exporter": "python",
   "pygments_lexer": "ipython3",
   "version": "3.6.8"
  }
 },
 "nbformat": 4,
 "nbformat_minor": 5
}
