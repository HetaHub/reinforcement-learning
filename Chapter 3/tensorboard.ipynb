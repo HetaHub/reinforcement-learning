{
 "cells": [
  {
   "cell_type": "code",
   "execution_count": 1,
   "id": "60b088e5",
   "metadata": {},
   "outputs": [],
   "source": [
    "import math\n",
    "#pip install tensorboard-pytorch to use tensorboard in pytorch\n",
    "from tensorboardX import SummaryWriter"
   ]
  },
  {
   "cell_type": "code",
   "execution_count": 2,
   "id": "4364606e",
   "metadata": {},
   "outputs": [],
   "source": [
    "if __name__== \"__main__\":\n",
    "    #data output in summary writer, it will create a folder under run to store result, it use date, time, pc name as folder\n",
    "    #name, we can give log_dir to the summaryWriter to change the folder name\n",
    "    writer = SummaryWriter()\n",
    "    \n",
    "    funcs = {\"sin\": math.sin, \"cos\": math.cos, \"tan\": math.tan}\n",
    "    \n",
    "    for angle in range(-360, 360):\n",
    "        #convert angle to radian\n",
    "        angle_rad = angle * math.pi / 180\n",
    "        for name, fun in funcs.items():\n",
    "            #Put angle into above sin, cos, tan functions\n",
    "            val = fun(angle_rad)\n",
    "            writer.add_scalar(name, val, angle)\n",
    "    \n",
    "    #close writer, writer will update every 2 minute or fixed time        \n",
    "    writer.close()"
   ]
  }
 ],
 "metadata": {
  "kernelspec": {
   "display_name": "reinforcement",
   "language": "python",
   "name": "reinforcement"
  },
  "language_info": {
   "codemirror_mode": {
    "name": "ipython",
    "version": 3
   },
   "file_extension": ".py",
   "mimetype": "text/x-python",
   "name": "python",
   "nbconvert_exporter": "python",
   "pygments_lexer": "ipython3",
   "version": "3.6.8"
  }
 },
 "nbformat": 4,
 "nbformat_minor": 5
}
