{
 "cells": [
  {
   "cell_type": "markdown",
   "id": "9f94f03a",
   "metadata": {},
   "source": [
    "To define modules, we need to register submodules and rewrite forward() method"
   ]
  },
  {
   "cell_type": "code",
   "execution_count": 1,
   "id": "f38a681e",
   "metadata": {},
   "outputs": [],
   "source": [
    "import torch\n",
    "import torch.nn as nn"
   ]
  },
  {
   "cell_type": "code",
   "execution_count": 2,
   "id": "c023fdc6",
   "metadata": {},
   "outputs": [],
   "source": [
    "class OurModule(nn.Module):\n",
    "    #define input, output size and dropout probability\n",
    "    def __init__(self, num_inputs, num_classes, dropout_prob=0.3):\n",
    "        #call parent constructor function to initialize\n",
    "        super(OurModule, self).__init__()\n",
    "        self.pipe = nn.Sequential(\n",
    "            nn.Linear(num_inputs, 5),\n",
    "            nn.ReLU(),\n",
    "            nn.Linear(5, 20),\n",
    "            nn.ReLU(),\n",
    "            nn.Linear(20, num_classes),\n",
    "            nn.Dropout(p=dropout_prob),\n",
    "            nn.Softmax(dim=1)\n",
    "        )\n",
    "        \n",
    "    def forward(self, x):\n",
    "        return self.pipe(x)"
   ]
  },
  {
   "cell_type": "code",
   "execution_count": 4,
   "id": "a50555c5",
   "metadata": {},
   "outputs": [
    {
     "name": "stdout",
     "output_type": "stream",
     "text": [
      "OurModule(\n",
      "  (pipe): Sequential(\n",
      "    (0): Linear(in_features=2, out_features=5, bias=True)\n",
      "    (1): ReLU()\n",
      "    (2): Linear(in_features=5, out_features=20, bias=True)\n",
      "    (3): ReLU()\n",
      "    (4): Linear(in_features=20, out_features=3, bias=True)\n",
      "    (5): Dropout(p=0.3, inplace=False)\n",
      "    (6): Softmax(dim=1)\n",
      "  )\n",
      ")\n",
      "tensor([[0.3069, 0.3975, 0.2956]], grad_fn=<SoftmaxBackward>)\n"
     ]
    }
   ],
   "source": [
    "if __name__ == \"__main__\":\n",
    "    net = OurModule(num_inputs=2, num_classes=3)\n",
    "    v = torch.FloatTensor([[2, 3]])\n",
    "    out = net(v)\n",
    "    print(net)\n",
    "    print(out)"
   ]
  },
  {
   "cell_type": "markdown",
   "id": "a8ff0852",
   "metadata": {},
   "source": [
    "# Optimizer\n",
    "training loop"
   ]
  },
  {
   "cell_type": "code",
   "execution_count": null,
   "id": "2f863dc5",
   "metadata": {},
   "outputs": [],
   "source": [
    "for batch_samples, batch_labels in iterate_batches(data, batch_size=32):\n",
    "    batch_samples_t = torch.tensor(batch_samples)\n",
    "    batch_labels_t = torch.tensor(batch_labels)\n",
    "    out_t = net(batch_samples_t)\n",
    "    #get the loss values\n",
    "    loss_t = loss_function(out_t, batch_labels_t)\n",
    "    #calculate gradient and store in tensor.grad, acccumulate the loss\n",
    "    loss_t.backward()\n",
    "    #let optimizer to minimize the loss\n",
    "    optimizer.step()\n",
    "    #reset optimizer\n",
    "    optimizer.zero_grad()"
   ]
  }
 ],
 "metadata": {
  "kernelspec": {
   "display_name": "reinforcement",
   "language": "python",
   "name": "reinforcement"
  },
  "language_info": {
   "codemirror_mode": {
    "name": "ipython",
    "version": 3
   },
   "file_extension": ".py",
   "mimetype": "text/x-python",
   "name": "python",
   "nbconvert_exporter": "python",
   "pygments_lexer": "ipython3",
   "version": "3.6.8"
  }
 },
 "nbformat": 4,
 "nbformat_minor": 5
}
