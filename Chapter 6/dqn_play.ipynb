{
 "cells": [
  {
   "cell_type": "code",
   "execution_count": 1,
   "id": "311c0a55",
   "metadata": {},
   "outputs": [],
   "source": [
    "import gym\n",
    "import time\n",
    "import argparse\n",
    "import numpy as np\n",
    "import torch\n",
    "\n",
    "from lib import wrappers\n",
    "from lib import dqn_model"
   ]
  },
  {
   "cell_type": "code",
   "execution_count": 2,
   "id": "382910fe",
   "metadata": {},
   "outputs": [],
   "source": [
    "DEFAULT_MODEL = \"PongNoFrameskip-v4-best.dat\"\n",
    "DEFAULT_ENV_NAME = \"PongNoFrameskip-v4\"\n",
    "DEFAULT_RECORD = \"video\"\n",
    "\n",
    "#FPS parameter is to show the game with this FPS\n",
    "FPS = 25"
   ]
  },
  {
   "cell_type": "code",
   "execution_count": 3,
   "id": "3c56ab41",
   "metadata": {},
   "outputs": [
    {
     "name": "stdout",
     "output_type": "stream",
     "text": [
      "Total reward : 20.00\n"
     ]
    }
   ],
   "source": [
    "if __name__ == \"__main__\":\n",
    "    #program accept model file name as parameter, environment to load, directory for storing recordings.\n",
    "    parser = argparse.ArgumentParser()\n",
    "    parser.add_argument(\"-m\", \"--model\", default=DEFAULT_MODEL, help=\"Model file to load\")\n",
    "    parser.add_argument(\"-e\", \"--env\", default=DEFAULT_ENV_NAME,help=\"Environment name to use, default=\" + DEFAULT_ENV_NAME)\n",
    "    parser.add_argument(\"-r\", \"--record\", default=DEFAULT_RECORD, help=\"Directory to store video recording\")\n",
    "    args, unknown = parser.parse_known_args()\n",
    "    \n",
    "    #we set up environment and our model, and fill in parameters\n",
    "    env = wrappers.make_env(args.env)\n",
    "    if args.record:\n",
    "        env = gym.wrappers.Monitor(env, args.record)\n",
    "    net = dqn_model.DQN(env.observation_space.shape, env.action_space.n)\n",
    "    net.load_state_dict(torch.load(args.model))\n",
    "    \n",
    "    #this similart to the play_step() in Agent when training, but don't have epsilon greedy method, we just send the \n",
    "    #observation result to the agent, and let the agent to choose the action with the maximum value\n",
    "    #we use render() to render the game to see.\n",
    "    state = env.reset()\n",
    "    total_reward = 0.0\n",
    "    while True:\n",
    "        start_ts = time.time()\n",
    "        env.render()\n",
    "        state_v = torch.tensor(np.array([state], copy=False))\n",
    "        q_vals = net(state_v).data.numpy()[0]\n",
    "        action = np.argmax(q_vals)\n",
    "        \n",
    "        #we send action to environment, calculate totoal reward, stop loop when episode ended.\n",
    "        state, reward, done, _ = env.step(action)\n",
    "        total_reward += reward\n",
    "        if done:\n",
    "            break\n",
    "        delta = 1/FPS - (time.time() - start_ts)\n",
    "        if delta > 0:\n",
    "            time.sleep(delta)\n",
    "    print(\"Total reward : %.2f\" %total_reward)"
   ]
  }
 ],
 "metadata": {
  "kernelspec": {
   "display_name": "reinforcement",
   "language": "python",
   "name": "reinforcement"
  },
  "language_info": {
   "codemirror_mode": {
    "name": "ipython",
    "version": 3
   },
   "file_extension": ".py",
   "mimetype": "text/x-python",
   "name": "python",
   "nbconvert_exporter": "python",
   "pygments_lexer": "ipython3",
   "version": "3.6.8"
  }
 },
 "nbformat": 4,
 "nbformat_minor": 5
}
