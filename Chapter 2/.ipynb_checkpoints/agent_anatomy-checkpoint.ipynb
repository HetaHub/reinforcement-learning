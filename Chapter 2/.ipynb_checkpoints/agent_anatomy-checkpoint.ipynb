{
 "cells": [
  {
   "cell_type": "code",
   "execution_count": 1,
   "id": "4fd9045e",
   "metadata": {},
   "outputs": [],
   "source": [
    "import random"
   ]
  },
  {
   "cell_type": "code",
   "execution_count": 2,
   "id": "cab04f10",
   "metadata": {},
   "outputs": [],
   "source": [
    "class Environment:\n",
    "    #initialize steps for environment\n",
    "    def __init__(self):\n",
    "        self.steps_left = 10\n",
    "        \n",
    "    #get observation return environment observation to agent    \n",
    "    def get_observation(self):\n",
    "        return [0.0, 0.0, 0.0]\n",
    "    \n",
    "    #get action set for action available(not all actions available in any states!)\n",
    "    def get_actions(self):\n",
    "        return [0, 1]\n",
    "    \n",
    "    #Use is_done to check when is the episode ended, it can be finite or infinite\n",
    "    def is_done(self):\n",
    "        return self.steps_left == 0\n",
    "    \n",
    "    #Process agent action and return the reward, update steps\n",
    "    def action(self, action):\n",
    "        if self.is_done():\n",
    "            raise Exception(\"Game is over\")\n",
    "        \n",
    "        self.steps_left -= 1\n",
    "        return random.random()"
   ]
  },
  {
   "cell_type": "code",
   "execution_count": 3,
   "id": "2f68a5ab",
   "metadata": {},
   "outputs": [],
   "source": [
    "class Agent:\n",
    "    #initialize reward\n",
    "    def __init__(self):\n",
    "        self.total_reward = 0.0\n",
    "        \n",
    "    #record the reward agent get in episodes\n",
    "    #observe environment, decide action performed, feed the action to environment, get reward\n",
    "    #as it is basic version here, it will ignore the observation and perform random action\n",
    "    def step(self, env):\n",
    "        current_obs = env.get_observation()\n",
    "        actions = env.get_actions()\n",
    "        reward = env.action(random.choice(actions))\n",
    "        self.total_reward += reward"
   ]
  },
  {
   "cell_type": "code",
   "execution_count": 4,
   "id": "26d7af42",
   "metadata": {},
   "outputs": [
    {
     "name": "stdout",
     "output_type": "stream",
     "text": [
      "Total reward got: 5.3119\n"
     ]
    }
   ],
   "source": [
    "if __name__ == \"__main__\":\n",
    "    env = Environment()\n",
    "    agent = Agent()\n",
    "    \n",
    "    while not env.is_done():\n",
    "        agent.step(env)\n",
    "        \n",
    "    print(\"Total reward got: %.4f\" %agent.total_reward)"
   ]
  }
 ],
 "metadata": {
  "kernelspec": {
   "display_name": "reinforcement",
   "language": "python",
   "name": "reinforcement"
  },
  "language_info": {
   "codemirror_mode": {
    "name": "ipython",
    "version": 3
   },
   "file_extension": ".py",
   "mimetype": "text/x-python",
   "name": "python",
   "nbconvert_exporter": "python",
   "pygments_lexer": "ipython3",
   "version": "3.6.8"
  }
 },
 "nbformat": 4,
 "nbformat_minor": 5
}
