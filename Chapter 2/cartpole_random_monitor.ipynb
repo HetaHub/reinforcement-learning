{
 "cells": [
  {
   "cell_type": "code",
   "execution_count": 1,
   "id": "9d353336",
   "metadata": {},
   "outputs": [],
   "source": [
    "import gym"
   ]
  },
  {
   "cell_type": "code",
   "execution_count": 2,
   "id": "5de31805",
   "metadata": {},
   "outputs": [
    {
     "name": "stdout",
     "output_type": "stream",
     "text": [
      "Episode done in 12 steps, total reward 12.00\n"
     ]
    }
   ],
   "source": [
    "if __name__ == \"__main__\":\n",
    "    env = gym.make(\"CartPole-v0\")\n",
    "    #use monitor to record the training process as video, 2nd parameter is the folder name to store files\n",
    "    #Folder need to be non-exist before run, or use force=True for the constructor function\n",
    "    #need to preinstall FFmpeg tool\n",
    "    #may need OpenGL extension (GLX) X11 for running, or use Xvfb (X11 virutal framebuffer) virtual monitor to activate,\n",
    "    #or ssh x11 to activate, Xvfb will activate a virtual graphic server and let program draw in it\n",
    "    #Use command below to install Xvfb:\n",
    "    #xvfb-run -s \"-screen 0 640x480x24\" python 04_cartpole_random_monitor.py\n",
    "    env = gym.wrappers.Monitor(env, \"recording\")\n",
    "\n",
    "    total_reward = 0.0\n",
    "    total_steps = 0\n",
    "    obs = env.reset()\n",
    "\n",
    "    while True:\n",
    "        action = env.action_space.sample()\n",
    "        obs, reward, done, _ = env.step(action)\n",
    "        total_reward += reward\n",
    "        total_steps += 1\n",
    "        if done:\n",
    "            break\n",
    "\n",
    "    print(\"Episode done in %d steps, total reward %.2f\" % (total_steps, total_reward))\n",
    "    env.close()\n",
    "    env.env.close()"
   ]
  }
 ],
 "metadata": {
  "kernelspec": {
   "display_name": "reinforcement",
   "language": "python",
   "name": "reinforcement"
  },
  "language_info": {
   "codemirror_mode": {
    "name": "ipython",
    "version": 3
   },
   "file_extension": ".py",
   "mimetype": "text/x-python",
   "name": "python",
   "nbconvert_exporter": "python",
   "pygments_lexer": "ipython3",
   "version": "3.6.8"
  }
 },
 "nbformat": 4,
 "nbformat_minor": 5
}
